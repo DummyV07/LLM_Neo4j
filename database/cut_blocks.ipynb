{
 "cells": [
  {
   "cell_type": "markdown",
   "metadata": {},
   "source": [
    "## 长文本存在一定的缺陷，需要对文本进行按章节切分"
   ]
  },
  {
   "cell_type": "code",
   "execution_count": null,
   "metadata": {},
   "outputs": [],
   "source": [
    "# 使用正则表达式，将文本按章节进行切分\n",
    "# 然后再在对应的章节中，提取关键字信息\n",
    "\n",
    "import re\n",
    "\n",
    "def is_chapter(line):\n",
    "    pattern = r'第\\d+章'\n",
    "    return bool(re.search(pattern, line.strip()))"
   ]
  }
 ],
 "metadata": {
  "language_info": {
   "name": "python"
  }
 },
 "nbformat": 4,
 "nbformat_minor": 2
}
